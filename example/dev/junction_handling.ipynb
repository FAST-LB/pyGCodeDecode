{
 "cells": [
  {
   "cell_type": "code",
   "execution_count": 26,
   "metadata": {},
   "outputs": [
    {
     "name": "stdout",
     "output_type": "stream",
     "text": [
      "Using matplotlib backend: QtAgg\n"
     ]
    }
   ],
   "source": [
    "%matplotlib\n",
    "from pyGCodeDecode.junction_handling import *\n",
    "from pyGCodeDecode.utils import position\n",
    "from pyGCodeDecode.state import state\n",
    "import math\n",
    "import numpy as np\n",
    "import matplotlib.pyplot as plt"
   ]
  },
  {
   "cell_type": "code",
   "execution_count": 27,
   "metadata": {},
   "outputs": [],
   "source": [
    "settings = state.p_settings(p_acc=50, jerk=10, vX=100, vY=100, vZ=100, vE=100, speed=100)"
   ]
  },
  {
   "cell_type": "code",
   "execution_count": 28,
   "metadata": {},
   "outputs": [],
   "source": [
    "stateA = state(state_p_settings=settings)\n",
    "stateB = state(state_p_settings=settings)\n",
    "stateC = state(state_p_settings=settings)\n",
    "\n",
    "stateA.next_state = stateB\n",
    "stateB.prev_state = stateA\n",
    "stateB.next_state = stateC\n",
    "stateC.prev_state = stateB"
   ]
  },
  {
   "cell_type": "code",
   "execution_count": 29,
   "metadata": {},
   "outputs": [],
   "source": [
    "def rotate_pos(pos: position, alpha):\n",
    "    alpha = math.radians(alpha)\n",
    "    pos_v = np.array(pos.get_vec()[:2])\n",
    "    rot_M = np.array([[math.cos(alpha), -math.sin(alpha)], [math.sin(alpha), math.cos(alpha)]])\n",
    "    new_pos = np.matmul(rot_M, pos_v)\n",
    "    return new_pos"
   ]
  },
  {
   "cell_type": "code",
   "execution_count": 32,
   "metadata": {},
   "outputs": [],
   "source": [
    "for alpha in range(0, 361, 1):  # rotate all positions in space to capture axis dependant anomalies\n",
    "    # reset positions\n",
    "    stateA.state_position = position(0, 0, 0, 0)\n",
    "    stateB.state_position = position(50, 0, 0, 0)\n",
    "\n",
    "    stateA.state_position = position(*rotate_pos(stateA.state_position, alpha), 0, 0)\n",
    "    stateB.state_position = position(*rotate_pos(stateB.state_position, alpha), 0, 0)\n",
    "\n",
    "    angles = range(0, 181, 1)  # angle test range\n",
    "    result = []\n",
    "\n",
    "    for angle in angles:\n",
    "        coordXY = [\n",
    "            math.cos(math.radians(angle)) * 50 + 50,\n",
    "            math.sin(math.radians(angle)) * 50,\n",
    "        ]  # calc new position based on angle\n",
    "        stateC.state_position = position(*coordXY, 0, 0)\n",
    "        stateC.state_position = position(*rotate_pos(stateC.state_position, alpha), 0, 0)\n",
    "\n",
    "        v0 = junction_handling(state_A=stateA, state_B=stateB).get_junction_vel()\n",
    "        v1 = junction_handling_marlin(state_A=stateA, state_B=stateB).get_junction_vel()\n",
    "        v2 = junction_handling_marlin_jerk(state_A=stateA, state_B=stateB).get_junction_vel()\n",
    "        v3 = junction_handling_klipper(state_A=stateA, state_B=stateB).get_junction_vel()\n",
    "        v4 = junction_handling_MKA(state_A=stateA, state_B=stateB).get_junction_vel()\n",
    "        result.append([angle, v0, v1, v2, v3, v4])\n",
    "\n",
    "    result = np.reshape(result, (-1, 6))\n",
    "\n",
    "    if alpha == 0:\n",
    "        plt.plot(result[:, 0], result[:, 1:], label=[\"v0\", \"marlin_JD\", \"marlin_jerk\", \"klipper\", \"mka\"], zorder=10)\n",
    "    else:\n",
    "        plt.plot(result[:, 0], result[:, 1:], alpha=0.2, c=\"black\", zorder=0, linestyle=\"--\", lw=0.5)\n",
    "plt.legend(loc=\"upper center\", bbox_to_anchor=(0.5, -0.1), fancybox=True, ncol=5)\n",
    "plt.grid(visible=True, which=\"major\", axis=\"both\", alpha=0.6, linestyle=\"dotted\")\n",
    "plt.xticks(range(0, 181, 30))\n",
    "plt.yticks(range(0, 101, 10))\n",
    "\n",
    "plt.show()"
   ]
  },
  {
   "cell_type": "code",
   "execution_count": null,
   "metadata": {},
   "outputs": [],
   "source": []
  }
 ],
 "metadata": {
  "kernelspec": {
   "display_name": ".venv",
   "language": "python",
   "name": "python3"
  },
  "language_info": {
   "codemirror_mode": {
    "name": "ipython",
    "version": 3
   },
   "file_extension": ".py",
   "mimetype": "text/x-python",
   "name": "python",
   "nbconvert_exporter": "python",
   "pygments_lexer": "ipython3",
   "version": "3.9.13"
  }
 },
 "nbformat": 4,
 "nbformat_minor": 2
}
