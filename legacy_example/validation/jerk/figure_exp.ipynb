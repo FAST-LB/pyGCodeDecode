{
 "cells": [
  {
   "cell_type": "code",
   "execution_count": null,
   "metadata": {},
   "outputs": [],
   "source": [
    "import matplotlib.pyplot as plt\n",
    "import numpy as np\n",
    "import csv\n",
    "import locale as loc\n",
    "\n",
    "loc.setlocale(loc.LC_ALL, \"\")\n",
    "loc.atof(\"123,456\")"
   ]
  },
  {
   "cell_type": "code",
   "execution_count": null,
   "metadata": {},
   "outputs": [],
   "source": [
    "values = dict()\n",
    "jerk = []\n",
    "sim = []\n",
    "exp = []\n",
    "no_sim = []\n",
    "with open(\"prusa_mini_exp_sim_nosim.csv\") as file:\n",
    "    data = csv.DictReader(file, delimiter=\",\")\n",
    "    for row in data:\n",
    "        jerk.append(loc.atof(row[\"jerk\"]))\n",
    "        sim.append(loc.atof(row[\"simulation\"]))\n",
    "        exp.append(loc.atof(row[\"experiment\"]))\n",
    "        no_sim.append(loc.atof(row[\"no simulation\"]))\n",
    "values[\"jerk\"] = jerk\n",
    "values[\"sim\"] = sim\n",
    "values[\"exp\"] = exp\n",
    "values[\"no_sim\"] = no_sim"
   ]
  },
  {
   "cell_type": "code",
   "execution_count": null,
   "metadata": {},
   "outputs": [],
   "source": [
    "values"
   ]
  },
  {
   "cell_type": "code",
   "execution_count": null,
   "metadata": {},
   "outputs": [],
   "source": [
    "# Font\n",
    "plt.rcParams[\"font.size\"] = 14\n",
    "plt.rcParams[\"font.serif\"] = \"Times New Roman\"\n",
    "plt.rcParams[\"font.family\"] = \"serif\"\n",
    "plt.rcParams[\"mathtext.fontset\"] = \"dejavuserif\"  # dejavuserif, stixsans, cm\n",
    "\n",
    "# Line colors\n",
    "colormap = \"Dark2\"\n",
    "num = 9\n",
    "colors = [plt.get_cmap(colormap)(float(i) / num) for i in range(1, num)]"
   ]
  },
  {
   "cell_type": "code",
   "execution_count": null,
   "metadata": {},
   "outputs": [],
   "source": [
    "ypoints = values[\"jerk\"]\n",
    "\n",
    "x1points = values[\"sim\"]\n",
    "x2points = values[\"exp\"]\n",
    "x3points = values[\"no_sim\"]"
   ]
  },
  {
   "cell_type": "code",
   "execution_count": null,
   "metadata": {},
   "outputs": [],
   "source": [
    "fig, ax = plt.subplots(1, 1, figsize=(5, 4))\n",
    "\n",
    "ax.plot(ypoints, x1points, color=colors[0], label=\"simulation\", marker=\"^\")\n",
    "ax.plot(ypoints, x2points, color=colors[1], label=\"experiment\", marker=\"^\")\n",
    "ax.plot(ypoints, x3points, color=colors[2], label=\"const. velocity\", linestyle=\"--\")\n",
    "ax.scatter([0, 30], [71.93, 53.9], marker=\"x\", c=\"black\", label=\"analytical solutions\", s=75)\n",
    "\n",
    "plt.ylabel(r\"Layer duration $t_\\mathrm{layer}$ in s\")\n",
    "plt.xlabel(r\"Jerk setting $j$ in mm/s\")\n",
    "\n",
    "plt.ylim(45, 75)\n",
    "\n",
    "plt.legend()\n",
    "plt.grid(visible=True, which=\"major\", axis=\"both\", alpha=0.6, linestyle=\"dotted\")\n",
    "plt.tick_params(direction=\"in\")\n",
    "\n",
    "plt.savefig(r\"..\\..\\..\\paper\\plot.svg\", transparent=True)\n",
    "# plt.savefig(r\"test.png\", transparent=True)\n",
    "# plt.show()"
   ]
  }
 ],
 "metadata": {
  "kernelspec": {
   "display_name": "virtual_env_dsc",
   "language": "python",
   "name": "python3"
  },
  "language_info": {
   "codemirror_mode": {
    "name": "ipython",
    "version": 3
   },
   "file_extension": ".py",
   "mimetype": "text/x-python",
   "name": "python",
   "nbconvert_exporter": "python",
   "pygments_lexer": "ipython3",
   "version": "3.11.3"
  }
 },
 "nbformat": 4,
 "nbformat_minor": 2
}
