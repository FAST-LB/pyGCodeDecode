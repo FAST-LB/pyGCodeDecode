{
 "cells": [
  {
   "attachments": {},
   "cell_type": "markdown",
   "metadata": {},
   "source": [
    "## How to add Pauses into the Blocklist\n",
    "(this method does not simulate a true \"pause\" at the selected point: the toolhead will not necessarily come to a full stop)\n",
    "1. First we need to define all input parameters for the simulation as usual"
   ]
  },
  {
   "cell_type": "code",
   "execution_count": 1,
   "metadata": {},
   "outputs": [
    {
     "name": "stdout",
     "output_type": "stream",
     "text": [
      "[##########] 100% of Planner Block Generation Done...\n",
      " >> pyGCodeDecode extracted 52503 states from assembly_cake_20220831.gcode and generated 52502 plannerblocks.\n",
      " \n",
      "            Estimated time to travel all states with provided printer settings is 13452.796081720337 seconds.\n"
     ]
    }
   ],
   "source": [
    "%matplotlib widget\n",
    "from pyGCodeDecode import gcode_interpreter\n",
    "from pyGCodeDecode import planner_block\n",
    "from pyGCodeDecode import abaqus_file_generator\n",
    "anisoprint_A4 = {\n",
    "    #general properties\n",
    "    \"nozzle_diam\"   :   0.4,\n",
    "    \"filament_diam\" :   1.75,\n",
    "    \n",
    "    #default settings\n",
    "    \"velocity\"      :   35,\n",
    "    \"acceleration\"  :   1000,\n",
    "    \"jerk\"          :   10,\n",
    "    \n",
    "    #axis max speeds\n",
    "    \"Vx\"            :   180,\n",
    "    \"Vy\"            :   180,\n",
    "    \"Vz\"            :   30,\n",
    "    \"Ve\"            :   33\n",
    "    }\n",
    "\n",
    "\"\"\" INITIAL POSITION:\n",
    "    None        -> start from zero\n",
    "    True        -> use first gcode G1 command as initial position\n",
    "    [x,y,z,e]   -> non zero coordinates for initial position\n",
    "\"\"\"\n",
    "initial_position = None\n",
    "pause_1_line = 685\n",
    "pause_1_duration = 5\n",
    "pause_2_line = 47601\n",
    "pause_2_duration = 20\n",
    "simulation = gcode_interpreter.simulate(filename=r\"assembly_cake_20220831.gcode\",printer=anisoprint_A4,initial_position=initial_position)"
   ]
  },
  {
   "cell_type": "code",
   "execution_count": 2,
   "metadata": {},
   "outputs": [],
   "source": [
    "abaqus_file_generator.generate_abaqus_events(simulation,output_filename=simulation.filename[:-6]+\"-no_shift-abaqus.inp\")"
   ]
  },
  {
   "attachments": {},
   "cell_type": "markdown",
   "metadata": {},
   "source": [
    "2. Then we want to split the blocklist in seperate parts to apply the timeshift method on certain blocks. Since we dont know beforehand which block in the blocklist will be at the required point in the GCODE, we can either search through the list for a certain GCODE line number or a certain height. (height might result in problems due to z-hop on previous layers)"
   ]
  },
  {
   "attachments": {},
   "cell_type": "markdown",
   "metadata": {},
   "source": [
    "3. lets use Line Numbering"
   ]
  },
  {
   "cell_type": "code",
   "execution_count": 3,
   "metadata": {},
   "outputs": [],
   "source": [
    "blocklist = simulation.blocklist\n",
    "blocklist_split0 = [block for block in blocklist if block.state_A.line_nmbr < pause_1_line]\n",
    "blocklist_split1 = [block for block in blocklist if block.state_A.line_nmbr >= pause_1_line and block.state_A.line_nmbr < pause_2_line]\n",
    "blocklist_split2 = [block for block in blocklist if block.state_A.line_nmbr > pause_2_line]"
   ]
  },
  {
   "attachments": {},
   "cell_type": "markdown",
   "metadata": {},
   "source": [
    "4. This is where we apply the timeshift"
   ]
  },
  {
   "cell_type": "code",
   "execution_count": 4,
   "metadata": {},
   "outputs": [],
   "source": [
    "for block in blocklist_split1: block.timeshift(pause_1_duration)\n",
    "for block in blocklist_split2: block.timeshift(pause_2_duration+pause_1_duration)"
   ]
  },
  {
   "attachments": {},
   "cell_type": "markdown",
   "metadata": {},
   "source": [
    "5. so now lets overwrite the existing blocklist of the simulation so we can use class functions such as plot_vel()"
   ]
  },
  {
   "cell_type": "code",
   "execution_count": 5,
   "metadata": {},
   "outputs": [],
   "source": [
    "new_blocklist = list()\n",
    "new_blocklist.extend(blocklist_split0)\n",
    "new_blocklist.extend(blocklist_split1)\n",
    "new_blocklist.extend(blocklist_split2)\n",
    "\n",
    "simulation.blocklist = new_blocklist"
   ]
  },
  {
   "attachments": {},
   "cell_type": "markdown",
   "metadata": {},
   "source": [
    "let's see the changed timing in the velocity plot"
   ]
  },
  {
   "cell_type": "code",
   "execution_count": 7,
   "metadata": {},
   "outputs": [
    {
     "name": "stdout",
     "output_type": "stream",
     "text": [
      " >> pyGCodeDecode extracted 52503 states from assembly_cake_20220831.gcode and generated 52502 plannerblocks.\n",
      " \n",
      "            Estimated time to travel all states with provided printer settings is 13477.796081720337 seconds.\n"
     ]
    }
   ],
   "source": [
    "simulation.print_summary(simulation.filename)"
   ]
  },
  {
   "attachments": {},
   "cell_type": "markdown",
   "metadata": {},
   "source": [
    "6. Finally: let's generate the Abaqus INP file"
   ]
  },
  {
   "cell_type": "code",
   "execution_count": 8,
   "metadata": {},
   "outputs": [],
   "source": [
    "abaqus_file_generator.generate_abaqus_events(simulation,output_filename=simulation.filename[:-6]+\"-abaqus.inp\")"
   ]
  },
  {
   "attachments": {},
   "cell_type": "markdown",
   "metadata": {},
   "source": [
    "# Done"
   ]
  }
 ],
 "metadata": {
  "kernelspec": {
   "display_name": "Python 3",
   "language": "python",
   "name": "python3"
  },
  "language_info": {
   "codemirror_mode": {
    "name": "ipython",
    "version": 3
   },
   "file_extension": ".py",
   "mimetype": "text/x-python",
   "name": "python",
   "nbconvert_exporter": "python",
   "pygments_lexer": "ipython3",
   "version": "3.9.13"
  },
  "orig_nbformat": 4,
  "vscode": {
   "interpreter": {
    "hash": "00b1376ddef2f2a08d3a7302c7e2594786fc83fd4fe3c1ff039a63c2ecafda5d"
   }
  }
 },
 "nbformat": 4,
 "nbformat_minor": 2
}
