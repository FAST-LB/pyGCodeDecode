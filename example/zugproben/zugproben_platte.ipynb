{
 "cells": [
  {
   "cell_type": "code",
   "execution_count": 1,
   "metadata": {},
   "outputs": [],
   "source": [
    "%matplotlib widget\n",
    "from pyGCodeDecode import gcode_interpreter\n",
    "import matplotlib.pyplot as plt\n",
    "import numpy as np\n",
    "# ipympl can be install via pip: \"pip install ipympl\""
   ]
  },
  {
   "cell_type": "code",
   "execution_count": 2,
   "metadata": {},
   "outputs": [],
   "source": [
    "#PRINTER DEFINITION\n",
    "anisoprint_A4 = {\n",
    "    #general properties\n",
    "    \"nozzle_diam\"   :   0.4,\n",
    "    \"filament_diam\" :   1.75,\n",
    "    \n",
    "    #default settings\n",
    "    \"velocity\"      :   35,\n",
    "    \"acceleration\"  :   1000,\n",
    "    \"jerk\"          :   10,\n",
    "    \n",
    "    #axis max speeds\n",
    "    \"Vx\"            :   180,\n",
    "    \"Vy\"            :   180,\n",
    "    \"Vz\"            :   30,\n",
    "    \"Ve\"            :   33\n",
    "    }\n",
    "\n",
    "prusa_mini = {\n",
    "    #general properties\n",
    "    \"nozzle_diam\"   :   0.4,\n",
    "    \"filament_diam\" :   1.75,\n",
    "    \n",
    "    #default settings\n",
    "    \"velocity\"      :   35,\n",
    "    \"acceleration\"  :   1250,\n",
    "    \"jerk\"          :   8,\n",
    "    \n",
    "    #axis max speeds\n",
    "    \"Vx\"            :   180,\n",
    "    \"Vy\"            :   180,\n",
    "    \"Vz\"            :   12,\n",
    "    \"Ve\"            :   80\n",
    "    }"
   ]
  },
  {
   "cell_type": "code",
   "execution_count": 3,
   "metadata": {},
   "outputs": [
    {
     "name": "stdout",
     "output_type": "stream",
     "text": [
      "[##########] 100% of Planner Block Generation Done...\n",
      " >> pyGCodeDecode extracted 2553 states from 15x150_0deg.gcode and generated 2511 plannerblocks. \n",
      " Estimated time to travel all states with provided printer settings is 1217.525288244317 seconds.\n",
      "[##########] 100% of Planner Block Generation Done...\n",
      " >> pyGCodeDecode extracted 2950 states from 15x150_45deg.gcode and generated 2908 plannerblocks. \n",
      " Estimated time to travel all states with provided printer settings is 1222.9313966309282 seconds.\n"
     ]
    }
   ],
   "source": [
    "initial_position = True\n",
    "\n",
    "zero_deg = gcode_interpreter.simulate(filename=r\"15x150_0deg.gcode\",printer=anisoprint_A4,initial_position=initial_position)\n",
    "angle_deg = gcode_interpreter.simulate(filename=r\"15x150_45deg.gcode\",printer=anisoprint_A4,initial_position=initial_position)"
   ]
  },
  {
   "cell_type": "code",
   "execution_count": 4,
   "metadata": {},
   "outputs": [
    {
     "ename": "NameError",
     "evalue": "name 'aniso' is not defined",
     "output_type": "error",
     "traceback": [
      "\u001b[1;31m---------------------------------------------------------------------------\u001b[0m",
      "\u001b[1;31mNameError\u001b[0m                                 Traceback (most recent call last)",
      "\u001b[1;32m~\\AppData\\Local\\Temp\\ipykernel_8928\\1108683335.py\u001b[0m in \u001b[0;36m<module>\u001b[1;34m\u001b[0m\n\u001b[1;32m----> 1\u001b[1;33m \u001b[0maniso\u001b[0m\u001b[1;33m.\u001b[0m\u001b[0mplot_vel\u001b[0m\u001b[1;33m(\u001b[0m\u001b[0maxis\u001b[0m\u001b[1;33m=\u001b[0m\u001b[1;33m(\u001b[0m\u001b[1;34m\"x\"\u001b[0m\u001b[1;33m,\u001b[0m\u001b[1;34m\"y\"\u001b[0m\u001b[1;33m)\u001b[0m\u001b[1;33m,\u001b[0m\u001b[0mshow_plannerblocks\u001b[0m\u001b[1;33m=\u001b[0m\u001b[1;32mTrue\u001b[0m\u001b[1;33m,\u001b[0m\u001b[0mfilename\u001b[0m\u001b[1;33m=\u001b[0m\u001b[1;34m\"aniso_velplot.png\"\u001b[0m\u001b[1;33m)\u001b[0m\u001b[1;33m\u001b[0m\u001b[1;33m\u001b[0m\u001b[0m\n\u001b[0m\u001b[0;32m      2\u001b[0m \u001b[0mprusa\u001b[0m\u001b[1;33m.\u001b[0m\u001b[0mplot_vel\u001b[0m\u001b[1;33m(\u001b[0m\u001b[0maxis\u001b[0m\u001b[1;33m=\u001b[0m\u001b[1;33m(\u001b[0m\u001b[1;34m\"x\"\u001b[0m\u001b[1;33m,\u001b[0m\u001b[1;34m\"y\"\u001b[0m\u001b[1;33m)\u001b[0m\u001b[1;33m,\u001b[0m\u001b[0mshow_plannerblocks\u001b[0m\u001b[1;33m=\u001b[0m\u001b[1;32mTrue\u001b[0m\u001b[1;33m,\u001b[0m\u001b[0mfilename\u001b[0m\u001b[1;33m=\u001b[0m\u001b[1;34m\"prusa_velplot.png\"\u001b[0m\u001b[1;33m)\u001b[0m\u001b[1;33m\u001b[0m\u001b[1;33m\u001b[0m\u001b[0m\n",
      "\u001b[1;31mNameError\u001b[0m: name 'aniso' is not defined"
     ]
    }
   ],
   "source": [
    "zero_deg.plot_vel(axis=(\"x\",\"y\"),show_plannerblocks=True,filename=\"aniso_velplot.png\")\n",
    "angle_deg.plot_vel(axis=(\"x\",\"y\"),show_plannerblocks=True,filename=\"prusa_velplot.png\")"
   ]
  },
  {
   "cell_type": "code",
   "execution_count": null,
   "metadata": {},
   "outputs": [
    {
     "name": "stdout",
     "output_type": "stream",
     "text": [
      "1.5115128002562652\n",
      "2.2712050674354622\n",
      "3.0308973346146595\n",
      "3.7905896017938567\n",
      "5.302102402050123\n",
      "7.565435735383456\n"
     ]
    }
   ],
   "source": [
    "for block in aniso.blocklist:\n",
    "    print(block.get_segments()[-1].t_end)"
   ]
  },
  {
   "cell_type": "code",
   "execution_count": null,
   "metadata": {},
   "outputs": [
    {
     "name": "stdout",
     "output_type": "stream",
     "text": [
      "1.509210240205012\n",
      "2.2669640539483695\n",
      "3.024717867691727\n",
      "3.782471681435084\n",
      "5.291681921640095\n",
      "7.552348588306761\n"
     ]
    }
   ],
   "source": [
    "for block in prusa.blocklist:\n",
    "    print(block.get_segments()[-1].t_end)"
   ]
  }
 ],
 "metadata": {
  "kernelspec": {
   "display_name": "Python 3.9.13 ('base')",
   "language": "python",
   "name": "python3"
  },
  "language_info": {
   "codemirror_mode": {
    "name": "ipython",
    "version": 3
   },
   "file_extension": ".py",
   "mimetype": "text/x-python",
   "name": "python",
   "nbconvert_exporter": "python",
   "pygments_lexer": "ipython3",
   "version": "3.9.13"
  },
  "orig_nbformat": 4,
  "vscode": {
   "interpreter": {
    "hash": "52634da84371cba311ea128a5ea7cdc41ff074b781779e754b270ff9f8153cee"
   }
  }
 },
 "nbformat": 4,
 "nbformat_minor": 2
}
