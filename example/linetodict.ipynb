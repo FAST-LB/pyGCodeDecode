{
 "cells": [
  {
   "attachments": {},
   "cell_type": "markdown",
   "metadata": {},
   "source": [
    "https://note.nkmk.me/en/python-re-match-object-span-group/"
   ]
  },
  {
   "cell_type": "code",
   "execution_count": 61,
   "metadata": {},
   "outputs": [],
   "source": [
    "lines = [\n",
    "    \"G1 F1800\",\n",
    "    \"G1 E-6.5 F2400\",\n",
    "    \"G92 E0\",\n",
    "    \"M82\",\n",
    "    \"G1 X119.988 Y87.177 F1800 ;this is a comment\",\n",
    "    \"G1 E6.5 F2400\",\n",
    "    \"M203 X10\",\n",
    "    \"M20\",\n",
    "    \";TYPE:Skirt/Brim\",\n",
    "    \"No command\",\n",
    "]"
   ]
  },
  {
   "cell_type": "code",
   "execution_count": 62,
   "metadata": {},
   "outputs": [],
   "source": [
    "import re\n",
    "from typing import List, Match"
   ]
  },
  {
   "cell_type": "code",
   "execution_count": 74,
   "metadata": {},
   "outputs": [],
   "source": [
    "commands = {\n",
    "    \"G0\": {\"X\": None, \"Y\": None, \"Z\": None, \"F\": None},  # non Extrusion Move\n",
    "    \"G1\": {\"X\": None, \"Y\": None, \"Z\": None, \"F\": None},  # Extrusion Move\n",
    "    \"G4\": None,  # Dwell\n",
    "    \"M82\": None,  # E Absolute\n",
    "    \"M203\": None,  # Max Feedrate\n",
    "    \"M204\": None,  # Starting Acceleration\n",
    "    \"M205\": None,  # Advanced Settings\n",
    "    \"M83\": None,  # E Relative\n",
    "    \"G20\": None,  # Inches\n",
    "    \"G21\": None,  # Milimeters\n",
    "    \"G90\": None,  # Absolute Positioning\n",
    "    \"G91\": None,  # Relative Positioning\n",
    "    \"G92\": None,  # Set Position\n",
    "    \";\": None,  # Comment\n",
    "}"
   ]
  },
  {
   "cell_type": "code",
   "execution_count": 75,
   "metadata": {},
   "outputs": [],
   "source": [
    "def arg_extract(string: str, key_dict: dict):\n",
    "    \"\"\"\n",
    "    Extract arguments from known command dictionarys.\n",
    "    converts list of states to trajectory segments\n",
    "\n",
    "    Parameters\n",
    "    ----------\n",
    "    string  :   str\n",
    "        string of Commands\n",
    "    key_dict : dict\n",
    "        dictionary with known commands and subcommands\n",
    "\n",
    "    Returns\n",
    "    ----------\n",
    "    arg_dict : dict\n",
    "        dictionary with all found keys and their arguments\n",
    "\n",
    "    \"\"\"\n",
    "    arg_dict = dict()  # dict to store found arguments for each key\n",
    "    matches: List[Match] = list()  # list to store matching keywords\n",
    "\n",
    "    for key in key_dict.keys():  # look for each key in the dictionary\n",
    "        match = re.search(key, string)  # regex search for key in string\n",
    "        if match is not None:\n",
    "            matches.append(match)  # append found matches\n",
    "\n",
    "    # check for longest match and remove smaller match\n",
    "    i = 0\n",
    "    while i < len(matches):\n",
    "        a: Match = matches[i]\n",
    "        for match in matches:\n",
    "            if a.start() == match.start() and a.end() < match.end():\n",
    "                matches.remove(a)\n",
    "        i += 1\n",
    "\n",
    "    # support for multiple commands or additional comments per line\n",
    "    match_start_list = [match.start() for match in matches]\n",
    "    next_larger = lambda lst, num: min(\n",
    "        filter(lambda x: x >= num, lst), default=len(string)\n",
    "    )  # function to find next largest occurence in list, default to eol\n",
    "    comment_begin = min(\n",
    "        [start.start() for start in list(filter(lambda x: x.group() == \";\", [match for match in matches]))],\n",
    "        default=len(string),\n",
    "    )  # find first comment, default to eol\n",
    "\n",
    "    for match in matches:  # iterate through all matches, with next match available\n",
    "        match_end = match.end()  # find arg beginning by using end of match\n",
    "        key = match.group()  # get key from match\n",
    "        arg = None\n",
    "\n",
    "        match_next_start = next_larger(match_start_list, match_end)  # find arg end by using beginning of next arg\n",
    "        if key != \";\":\n",
    "            arg = string[match_end:match_next_start]  # slice string\n",
    "            arg = arg.replace(\" \", \"\")  # remove spaces if argument is not a comment\n",
    "        else:\n",
    "            arg = string[match_end:]  # special case for comments where everything coming after match is arg\n",
    "\n",
    "        if key_dict[key] is not None:  # check for nested commands\n",
    "            arg = arg_extract(arg, key_dict[key])  # call arg_extract through recursion\n",
    "\n",
    "        # save matches found outside of comments, not applying for comments\n",
    "        if match.end() <= comment_begin or key == \";\":\n",
    "            arg_dict[key] = arg  # save argument values in dict\n",
    "    return arg_dict"
   ]
  },
  {
   "cell_type": "code",
   "execution_count": 76,
   "metadata": {},
   "outputs": [
    {
     "data": {
      "text/plain": [
       "{'G1': {'Y': '20', 'Z': '30'}, ';': ' G0'}"
      ]
     },
     "execution_count": 76,
     "metadata": {},
     "output_type": "execute_result"
    }
   ],
   "source": [
    "arg_extract(\"G1 Z30 Y20; G0\", commands)"
   ]
  },
  {
   "cell_type": "code",
   "execution_count": 77,
   "metadata": {},
   "outputs": [
    {
     "data": {
      "text/plain": [
       "{'G0': {'Z': '2'},\n",
       " 'G1': {'Y': '20', 'Z': '30', 'F': '20'},\n",
       " ';': 'pimml ;G0 du bauer'}"
      ]
     },
     "execution_count": 77,
     "metadata": {},
     "output_type": "execute_result"
    }
   ],
   "source": [
    "arg_extract(\"G1 Z30 F20 Y20 G0 Z2;pimml ;G0 du bauer\", commands)"
   ]
  },
  {
   "cell_type": "code",
   "execution_count": 73,
   "metadata": {},
   "outputs": [
    {
     "data": {
      "text/plain": [
       "{'G1': {'X': '5'}, 'M205': '', 'G10': ''}"
      ]
     },
     "execution_count": 73,
     "metadata": {},
     "output_type": "execute_result"
    }
   ],
   "source": [
    "arg_extract(\"G1 X5 G10 M205\", commands)"
   ]
  }
 ],
 "metadata": {
  "kernelspec": {
   "display_name": "base",
   "language": "python",
   "name": "python3"
  },
  "language_info": {
   "codemirror_mode": {
    "name": "ipython",
    "version": 3
   },
   "file_extension": ".py",
   "mimetype": "text/x-python",
   "name": "python",
   "nbconvert_exporter": "python",
   "pygments_lexer": "ipython3",
   "version": "3.9.13"
  },
  "orig_nbformat": 4
 },
 "nbformat": 4,
 "nbformat_minor": 2
}
