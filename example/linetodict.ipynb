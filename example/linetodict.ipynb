{
 "cells": [
  {
   "attachments": {},
   "cell_type": "markdown",
   "metadata": {},
   "source": [
    "https://note.nkmk.me/en/python-re-match-object-span-group/"
   ]
  },
  {
   "cell_type": "code",
   "execution_count": 115,
   "metadata": {},
   "outputs": [],
   "source": [
    "lines = [\n",
    "\"G1 F1800\",\n",
    "\"G1 E-6.5 F2400\",\n",
    "\"G92 E0\",\n",
    "\"M82\",\n",
    "\"G1 X119.988 Y87.177 F1800 ;this is a comment\",\n",
    "\"G1 E6.5 F2400\",\n",
    "\"M203 X10\",\n",
    "\"M20\",\n",
    "\";TYPE:Skirt/Brim\",\n",
    "\"No command\"]"
   ]
  },
  {
   "cell_type": "code",
   "execution_count": 50,
   "metadata": {},
   "outputs": [],
   "source": [
    "import re"
   ]
  },
  {
   "cell_type": "code",
   "execution_count": 82,
   "metadata": {},
   "outputs": [],
   "source": [
    "commands = {\n",
    "        \"G0 \": None,  # non Extrusion Move\n",
    "        \"G1 \": None,  # Extrusion Move\n",
    "        \"G4 \": None,  # Dwell\n",
    "        \"M82\": None,  # E Absolute\n",
    "        \"M203 \": None,  # Max Feedrate\n",
    "        \"M204 \": None,  # Starting Acceleration\n",
    "        \"M205 \": None,  # Advanced Settings\n",
    "        \"M83\": None,  # E Relative\n",
    "        \"G20\": None,  # Inches\n",
    "        \"G21\": None,  # Milimeters\n",
    "        \"G90\": None,  # Absolute Positioning\n",
    "        \"G91\": None,  # Relative Positioning\n",
    "        \"G92 \": None, # Set Position\n",
    "        \";\": None  # Comment\n",
    "    }"
   ]
  },
  {
   "cell_type": "code",
   "execution_count": 121,
   "metadata": {},
   "outputs": [
    {
     "name": "stdout",
     "output_type": "stream",
     "text": [
      "{'G1 ': 'F1800'}\n",
      "{'G1 ': 'E-6.5 F2400'}\n",
      "{'G92 ': 'E0'}\n",
      "{'M82': ''}\n",
      "{'G1 ': 'X119.988 Y87.177 F1800 ', ';': 'this is a comment'}\n",
      "{'G1 ': 'E6.5 F2400'}\n",
      "{'M203 ': 'X10'}\n",
      "{}\n",
      "{';': 'TYPE:Skirt/Brim'}\n",
      "{}\n"
     ]
    }
   ],
   "source": [
    "for line in lines:\n",
    "    line_dict = dict()\n",
    "    matches = list()\n",
    "    for command in commands.keys():\n",
    "        match = re.search(command,line)\n",
    "        if match is not None:\n",
    "            matches.append(match)\n",
    "    # check for longest match? more robust \n",
    "    \n",
    "    # support for multiple commands or additional comments per line\n",
    "    for i in range(len(matches)):\n",
    "        match_0 = matches[i]\n",
    "        match_1 = matches[i+1].start() if i+1 < len(matches) else len(line)\n",
    "        command_type = match_0.group()\n",
    "        command_content = line[match_0.end():match_1]\n",
    "        line_dict[command_type] = command_content\n",
    "    print(line_dict)"
   ]
  },
  {
   "cell_type": "code",
   "execution_count": 78,
   "metadata": {},
   "outputs": [],
   "source": [
    "def get_command(line):\n",
    "    command_begin = -1\n",
    "    for command in commands.keys():\n",
    "        tmp = line.find(command)\n",
    "        if command_begin < tmp:\n",
    "            command_begin = tmp \n",
    "\n",
    "    print(command_begin,command) if command_begin != -1 else None"
   ]
  },
  {
   "cell_type": "code",
   "execution_count": 19,
   "metadata": {},
   "outputs": [],
   "source": [
    "def line_to_dict(line):\n",
    "    \"\"\"\n",
    "    Converts known GCode commands to dictionary.\n",
    "    \"\"\"\n",
    "    commands = {\n",
    "        \"G0\": None,  # non Extrusion Move\n",
    "        \"G1\": None,  # Extrusion Move\n",
    "        \"G4\": None,  # Dwell\n",
    "        \"M203\": None,  # Max Feedrate\n",
    "        \"M204\": None,  # Starting Acceleration\n",
    "        \"M205\": None,  # Advanced Settings\n",
    "        \"M82\": None,  # E Absolute\n",
    "        \"M83\": None,  # E Relative\n",
    "        \"G20\": None,  # Inches\n",
    "        \"G21\": None,  # Milimeters\n",
    "        \"G90\": None,  # Absolute Positioning\n",
    "        \"G91\": None,  # Relative Positioning\n",
    "        \";\": None,  # comment\n",
    "    }"
   ]
  },
  {
   "cell_type": "code",
   "execution_count": 47,
   "metadata": {},
   "outputs": [],
   "source": [
    "keys = tuple(commands.keys())"
   ]
  },
  {
   "cell_type": "code",
   "execution_count": 48,
   "metadata": {},
   "outputs": [
    {
     "data": {
      "text/plain": [
       "tuple"
      ]
     },
     "execution_count": 48,
     "metadata": {},
     "output_type": "execute_result"
    }
   ],
   "source": [
    "type(keys)"
   ]
  },
  {
   "cell_type": "code",
   "execution_count": 75,
   "metadata": {},
   "outputs": [
    {
     "name": "stdout",
     "output_type": "stream",
     "text": [
      "0 G1 \n",
      "0 G92 \n",
      "3 G1 \n",
      "0 M82\n",
      "0 G1 \n",
      "0 M203 \n",
      "0 ;\n"
     ]
    }
   ],
   "source": [
    "for line in lines:\n",
    "    get_command(line)\n"
   ]
  }
 ],
 "metadata": {
  "kernelspec": {
   "display_name": "base",
   "language": "python",
   "name": "python3"
  },
  "language_info": {
   "codemirror_mode": {
    "name": "ipython",
    "version": 3
   },
   "file_extension": ".py",
   "mimetype": "text/x-python",
   "name": "python",
   "nbconvert_exporter": "python",
   "pygments_lexer": "ipython3",
   "version": "3.9.13"
  },
  "orig_nbformat": 4
 },
 "nbformat": 4,
 "nbformat_minor": 2
}
