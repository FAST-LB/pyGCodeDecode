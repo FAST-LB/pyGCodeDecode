{
 "cells": [
  {
   "cell_type": "code",
   "execution_count": 13,
   "metadata": {},
   "outputs": [],
   "source": [
    "%matplotlib widget\n",
    "from pyGCodeDecode import gcode_interpreter\n",
    "import matplotlib.pyplot as plt\n",
    "import numpy as np\n",
    "# ipympl can be install via pip: \"pip install ipympl\""
   ]
  },
  {
   "cell_type": "code",
   "execution_count": 14,
   "metadata": {},
   "outputs": [],
   "source": [
    "#PRINTER DEFINITION\n",
    "anisoprint_A4 = {\n",
    "    #general properties\n",
    "    \"nozzle_diam\"   :   0.4,\n",
    "    \"filament_diam\" :   1.75,\n",
    "    \n",
    "    #default settings\n",
    "    \"velocity\"      :   35,\n",
    "    \"acceleration\"  :   1000,\n",
    "    \"jerk\"          :   10,\n",
    "    \n",
    "    #axis max speeds\n",
    "    \"Vx\"            :   180,\n",
    "    \"Vy\"            :   180,\n",
    "    \"Vz\"            :   30,\n",
    "    \"Ve\"            :   33\n",
    "    }\n",
    "\n",
    "prusa_mini = {\n",
    "    #general properties\n",
    "    \"nozzle_diam\"   :   0.4,\n",
    "    \"filament_diam\" :   1.75,\n",
    "    \n",
    "    #default settings\n",
    "    \"velocity\"      :   35,\n",
    "    \"acceleration\"  :   1250,\n",
    "    \"jerk\"          :   8,\n",
    "    \n",
    "    #axis max speeds\n",
    "    \"Vx\"            :   180,\n",
    "    \"Vy\"            :   180,\n",
    "    \"Vz\"            :   12,\n",
    "    \"Ve\"            :   80\n",
    "    }"
   ]
  },
  {
   "cell_type": "code",
   "execution_count": 15,
   "metadata": {},
   "outputs": [
    {
     "name": "stdout",
     "output_type": "stream",
     "text": [
      "[##########] 100% of Planner Block Generation Done...\n",
      " >> pyGCodeDecode extracted 7 states from test.gcode and generated 6 plannerblocks. \n",
      " Estimated time to travel all states with provided printer settings is 23.21473160740956 seconds.\n",
      "[##########] 100% of Planner Block Generation Done...\n",
      " >> pyGCodeDecode extracted 7 states from test.gcode and generated 6 plannerblocks. \n",
      " Estimated time to travel all states with provided printer settings is 23.21473160740956 seconds.\n"
     ]
    }
   ],
   "source": [
    "initial_position = True\n",
    "\n",
    "aniso = gcode_interpreter.simulate(filename=r\"test.gcode\",printer=anisoprint_A4,initial_position=initial_position)\n",
    "prusa = gcode_interpreter.simulate(filename=r\"test.gcode\",printer=prusa_mini,initial_position=initial_position)"
   ]
  },
  {
   "cell_type": "code",
   "execution_count": 16,
   "metadata": {},
   "outputs": [
    {
     "name": "stdout",
     "output_type": "stream",
     "text": [
      "[##########] 100% of Velocity Plot Done...\n",
      "[##########] 100% of Velocity Plot Done...\n"
     ]
    }
   ],
   "source": [
    "aniso.plot_vel(axis=(\"x\",\"y\"),show_plannerblocks=True,filename=\"aniso_velplot.png\")\n",
    "prusa.plot_vel(axis=(\"x\",\"y\"),show_plannerblocks=True,filename=\"prusa_velplot.png\")"
   ]
  },
  {
   "cell_type": "code",
   "execution_count": 17,
   "metadata": {},
   "outputs": [
    {
     "name": "stdout",
     "output_type": "stream",
     "text": [
      "4.591303844380205\n",
      "7.160493377151003\n",
      "9.729682909921802\n",
      "12.298872442692602\n",
      "16.890176287072805\n",
      "23.21473160740956\n"
     ]
    }
   ],
   "source": [
    "for block in aniso.blocklist:\n",
    "    print(block.get_segments()[-1].t_end)"
   ]
  },
  {
   "cell_type": "code",
   "execution_count": 18,
   "metadata": {},
   "outputs": [
    {
     "name": "stdout",
     "output_type": "stream",
     "text": [
      "4.591303844380205\n",
      "7.160493377151003\n",
      "9.729682909921802\n",
      "12.298872442692602\n",
      "16.890176287072805\n",
      "23.21473160740956\n"
     ]
    }
   ],
   "source": [
    "for block in prusa.blocklist:\n",
    "    print(block.get_segments()[-1].t_end)"
   ]
  }
 ],
 "metadata": {
  "kernelspec": {
   "display_name": "Python 3.9.13 ('base')",
   "language": "python",
   "name": "python3"
  },
  "language_info": {
   "codemirror_mode": {
    "name": "ipython",
    "version": 3
   },
   "file_extension": ".py",
   "mimetype": "text/x-python",
   "name": "python",
   "nbconvert_exporter": "python",
   "pygments_lexer": "ipython3",
   "version": "3.9.13"
  },
  "orig_nbformat": 4,
  "vscode": {
   "interpreter": {
    "hash": "52634da84371cba311ea128a5ea7cdc41ff074b781779e754b270ff9f8153cee"
   }
  }
 },
 "nbformat": 4,
 "nbformat_minor": 2
}
