{
 "cells": [
  {
   "cell_type": "code",
   "execution_count": 1,
   "metadata": {},
   "outputs": [],
   "source": [
    "%matplotlib widget\n",
    "from pyGCodeDecode import gcode_interpreter\n",
    "import matplotlib.pyplot as plt\n",
    "import numpy as np\n",
    "# ipympl can be install via pip: \"pip install ipympl\"\n",
    "import matplotlib as mpl \n",
    "import matplotlib.pyplot as plt\n",
    "from pyGCodeDecode import abaqus_file_generator\n",
    "\n",
    "\n",
    "#PRINTER DEFINITION\n",
    "anisoprint_A4 = {\n",
    "    #general properties\n",
    "    \"nozzle_diam\"   :   0.4,\n",
    "    \"filament_diam\" :   1.75,\n",
    "    \n",
    "    #default settings\n",
    "    \"velocity\"      :   35,\n",
    "    \"acceleration\"  :   1000,\n",
    "    \"jerk\"          :   10,\n",
    "    \n",
    "    #axis max speeds\n",
    "    \"Vx\"            :   180,\n",
    "    \"Vy\"            :   180,\n",
    "    \"Vz\"            :   30,\n",
    "    \"Ve\"            :   33\n",
    "    }\n",
    "\n",
    "anisoprint_A4_maxacc = {\n",
    "    #general properties\n",
    "    \"nozzle_diam\"   :   0.4,\n",
    "    \"filament_diam\" :   1.75,\n",
    "    \n",
    "    #default settings\n",
    "    \"velocity\"      :   35,\n",
    "    \"acceleration\"  :   1000000,\n",
    "    \"jerk\"          :   10000,\n",
    "    \n",
    "    #axis max speeds\n",
    "    \"Vx\"            :   180,\n",
    "    \"Vy\"            :   180,\n",
    "    \"Vz\"            :   30,\n",
    "    \"Ve\"            :   33\n",
    "    }\n",
    "\n",
    "prusa_mini = {\n",
    "    #general properties\n",
    "    \"nozzle_diam\"   :   0.4,\n",
    "    \"filament_diam\" :   1.75,\n",
    "    \n",
    "    #default settings\n",
    "    \"velocity\"      :   35,\n",
    "    \"acceleration\"  :   1250,\n",
    "    \"jerk\"          :   8,\n",
    "    \n",
    "    #axis max speeds\n",
    "    \"Vx\"            :   180,\n",
    "    \"Vy\"            :   180,\n",
    "    \"Vz\"            :   12,\n",
    "    \"Ve\"            :   80\n",
    "    }"
   ]
  },
  {
   "cell_type": "code",
   "execution_count": 2,
   "metadata": {},
   "outputs": [
    {
     "name": "stdout",
     "output_type": "stream",
     "text": [
      "[##########] 100% of Planner Block Generation Done...\n",
      " >> pyGCodeDecode extracted 146 states from drop.gcode and generated 145 plannerblocks. \n",
      " Estimated time to travel all states with provided printer settings is 7.151649670718889 seconds.\n",
      "[##########] 100% of Planner Block Generation Done...\n",
      " >> pyGCodeDecode extracted 146 states from drop.gcode and generated 145 plannerblocks. \n",
      " Estimated time to travel all states with provided printer settings is 4.3093443888738205 seconds.\n"
     ]
    }
   ],
   "source": [
    "initial_position = True\n",
    "printer = anisoprint_A4\n",
    "\n",
    "normal    = gcode_interpreter.simulate(filename=r\"drop.gcode\",printer=printer,initial_position=initial_position)\n",
    "schnell   = gcode_interpreter.simulate(filename=r\"drop.gcode\",printer=anisoprint_A4_maxacc,initial_position=initial_position)"
   ]
  },
  {
   "cell_type": "code",
   "execution_count": 3,
   "metadata": {},
   "outputs": [],
   "source": [
    "#obj = normal.plot_2d_position(colvar=\"Velocity\",colvar_spatial_resolution=0.1,scaled=True,show=True,filename=\"simulated.png\")\n"
   ]
  },
  {
   "cell_type": "code",
   "execution_count": 4,
   "metadata": {},
   "outputs": [],
   "source": [
    "#schnell.plot_2d_position(colvar=\"Velocity\",colvar_spatial_resolution=0.1,scaled=True,show=True,filename=\"ideal.png\")"
   ]
  },
  {
   "cell_type": "code",
   "execution_count": 5,
   "metadata": {},
   "outputs": [
    {
     "ename": "ValueError",
     "evalue": "Segment not defined for this point in time.",
     "output_type": "error",
     "traceback": [
      "\u001b[1;31m---------------------------------------------------------------------------\u001b[0m",
      "\u001b[1;31mValueError\u001b[0m                                Traceback (most recent call last)",
      "Cell \u001b[1;32mIn[5], line 1\u001b[0m\n\u001b[1;32m----> 1\u001b[0m abaqus_file_generator\u001b[39m.\u001b[39;49mgenerate_abaqus_events(trajectory\u001b[39m=\u001b[39;49mnormal,output_filename\u001b[39m=\u001b[39;49m\u001b[39m\"\u001b[39;49m\u001b[39mtesting.inp\u001b[39;49m\u001b[39m\"\u001b[39;49m)\n",
      "File \u001b[1;32mc:\\sph\\pygcodedecode\\pyGCodeDecode\\abaqus_file_generator.py:22\u001b[0m, in \u001b[0;36mgenerate_abaqus_events\u001b[1;34m(trajectory, output_filename)\u001b[0m\n\u001b[0;32m     20\u001b[0m time    \u001b[39m=\u001b[39m [\u001b[39m0\u001b[39m]\n\u001b[0;32m     21\u001b[0m \u001b[39mfor\u001b[39;00m segm \u001b[39min\u001b[39;00m unpacked:\n\u001b[1;32m---> 22\u001b[0m     pos\u001b[39m.\u001b[39mappend(segm\u001b[39m.\u001b[39;49mget_position(t\u001b[39m=\u001b[39;49msegm\u001b[39m.\u001b[39;49mt_end)\u001b[39m.\u001b[39mget_vec(withExtrusion\u001b[39m=\u001b[39m\u001b[39mTrue\u001b[39;00m))\n\u001b[0;32m     23\u001b[0m     time\u001b[39m.\u001b[39mappend(segm\u001b[39m.\u001b[39mt_end)\n\u001b[0;32m     25\u001b[0m \u001b[39m#figure out if extrusion happens from this to the next step, if yes -> 1, if no -> 0\u001b[39;00m\n",
      "File \u001b[1;32mc:\\sph\\pygcodedecode\\pyGCodeDecode\\utils.py:135\u001b[0m, in \u001b[0;36msegment.get_position\u001b[1;34m(self, t)\u001b[0m\n\u001b[0;32m    133\u001b[0m \u001b[39mdef\u001b[39;00m \u001b[39mget_position\u001b[39m(\u001b[39mself\u001b[39m,t):\n\u001b[0;32m    134\u001b[0m     \u001b[39mif\u001b[39;00m t\u001b[39m<\u001b[39m\u001b[39mself\u001b[39m\u001b[39m.\u001b[39mt_begin \u001b[39mor\u001b[39;00m t\u001b[39m>\u001b[39m\u001b[39mself\u001b[39m\u001b[39m.\u001b[39mt_end:\n\u001b[1;32m--> 135\u001b[0m         \u001b[39mraise\u001b[39;00m \u001b[39mValueError\u001b[39;00m(\u001b[39m\"\u001b[39m\u001b[39mSegment not defined for this point in time.\u001b[39m\u001b[39m\"\u001b[39m)\n\u001b[0;32m    136\u001b[0m     \u001b[39melse\u001b[39;00m:\n\u001b[0;32m    137\u001b[0m         current_vel \u001b[39m=\u001b[39m \u001b[39mself\u001b[39m\u001b[39m.\u001b[39mget_velocity(t\u001b[39m=\u001b[39mt)\n",
      "\u001b[1;31mValueError\u001b[0m: Segment not defined for this point in time."
     ]
    }
   ],
   "source": [
    "abaqus_file_generator.generate_abaqus_events(trajectory=normal,output_filename=\"testing.inp\")"
   ]
  }
 ],
 "metadata": {
  "kernelspec": {
   "display_name": "Python 3",
   "language": "python",
   "name": "python3"
  },
  "language_info": {
   "codemirror_mode": {
    "name": "ipython",
    "version": 3
   },
   "file_extension": ".py",
   "mimetype": "text/x-python",
   "name": "python",
   "nbconvert_exporter": "python",
   "pygments_lexer": "ipython3",
   "version": "3.9.13"
  },
  "orig_nbformat": 4,
  "vscode": {
   "interpreter": {
    "hash": "00b1376ddef2f2a08d3a7302c7e2594786fc83fd4fe3c1ff039a63c2ecafda5d"
   }
  }
 },
 "nbformat": 4,
 "nbformat_minor": 2
}
